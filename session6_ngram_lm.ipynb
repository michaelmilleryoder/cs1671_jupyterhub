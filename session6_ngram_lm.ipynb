{
 "cells": [
  {
   "cell_type": "markdown",
   "id": "c3dc1cc6-10e3-43e0-9b2a-9c3ab64ca08d",
   "metadata": {},
   "source": [
    "# N-gram language modeling\n",
    "Let's train an n-gram language model."
   ]
  },
  {
   "cell_type": "markdown",
   "id": "acd1bb16-d13a-488c-800b-5f8fb4f58f27",
   "metadata": {},
   "source": [
    "## Setup\n",
    "No need to run this unless you haven't successfully installed `nltk` or `scikit-learn` yet."
   ]
  },
  {
   "cell_type": "code",
   "execution_count": null,
   "id": "c6443dda-9967-4c06-8dc9-ef35e1c3c2a2",
   "metadata": {},
   "outputs": [],
   "source": [
    "! pip install --user nltk\n",
    "! pip install --user scikit-learn"
   ]
  },
  {
   "cell_type": "markdown",
   "id": "b5736dec-2e61-4429-85a6-4c1942cd55dc",
   "metadata": {},
   "source": [
    "Now select **Kernel > Restart Kernel** from the menu bar."
   ]
  },
  {
   "cell_type": "code",
   "execution_count": null,
   "id": "775107bc-b1f7-46b0-a5bc-43191c6715d0",
   "metadata": {},
   "outputs": [],
   "source": [
    "# Test importing\n",
    "import nltk\n",
    "import sklearn"
   ]
  },
  {
   "attachments": {},
   "cell_type": "markdown",
   "id": "bcc00fe5-945f-4d1a-8089-8fbd3e945426",
   "metadata": {},
   "source": [
    "## Load news text from Reuters\n",
    "Reuters from the '90s. Old news."
   ]
  },
  {
   "cell_type": "code",
   "execution_count": null,
   "id": "8a7884d4-c096-47cc-acca-3f9c3e621fe0",
   "metadata": {},
   "outputs": [],
   "source": [
    "# Only need to run this once on your CRCD account\n",
    "import nltk\n",
    "nltk.download('reuters')"
   ]
  },
  {
   "cell_type": "code",
   "execution_count": null,
   "id": "b20c0dff-e1eb-402e-a85f-e9de437bc5bc",
   "metadata": {},
   "outputs": [],
   "source": [
    "import nltk\n",
    "from nltk.corpus import reuters"
   ]
  },
  {
   "cell_type": "code",
   "execution_count": null,
   "id": "95c42e0c-bd29-43ab-9e7d-354011d9a2e8",
   "metadata": {},
   "outputs": [],
   "source": [
    "sents = reuters.sents() # Load all sentences in the corpus and lowercase\n",
    "sents"
   ]
  },
  {
   "cell_type": "markdown",
   "id": "218266c3-17e3-466b-bf4d-9c1b20113537",
   "metadata": {},
   "source": [
    "# Preprocess the text into ngrams"
   ]
  },
  {
   "cell_type": "code",
   "execution_count": null,
   "id": "24878279-1e5d-41d3-8287-d3dca6b84658",
   "metadata": {},
   "outputs": [],
   "source": [
    "# Lowercase the data\n",
    "sents = [[word.lower() for word in doc] for doc in sents]\n",
    "sents[:1]"
   ]
  },
  {
   "cell_type": "code",
   "execution_count": null,
   "id": "e7fe676a-045e-4a01-870a-dbb38ae08343",
   "metadata": {},
   "outputs": [],
   "source": [
    "# Randomly split into training and test\n",
    "from sklearn.model_selection import train_test_split\n",
    "\n",
    "random_seed = # FILL IN an integer\n",
    "train, test = train_test_split(sents, test_size=0.1, random_state=random_seed)\n",
    "print(len(train))\n",
    "print(len(test))"
   ]
  },
  {
   "cell_type": "code",
   "execution_count": null,
   "id": "7e3b4b64-d922-40ac-8eac-cfadf0998757",
   "metadata": {},
   "outputs": [],
   "source": [
    "from nltk.lm.preprocessing import padded_everygram_pipeline\n",
    "\n",
    "n = 2 # what order of ngram\n",
    "processed_train, vocab = padded_everygram_pipeline(n, train) \n",
    "# unfortunately can't inspect this as its a generator that's evaluated (\"filled in\") lazily"
   ]
  },
  {
   "cell_type": "markdown",
   "id": "45982437-4148-4348-8cb6-2dfb79a65b7d",
   "metadata": {},
   "source": [
    "# Train an ngram language model"
   ]
  },
  {
   "cell_type": "code",
   "execution_count": null,
   "id": "f6376eed-07bd-4a0d-92bc-5e2c8f05013c",
   "metadata": {},
   "outputs": [],
   "source": [
    "from nltk.lm import MLE\n",
    "\n",
    "# Initiate and fit an ngram language model\n",
    "lm = MLE(n)\n",
    "lm.fit(processed_train, vocab)"
   ]
  },
  {
   "cell_type": "code",
   "execution_count": null,
   "id": "a3215d22-aedf-4611-a0b4-8a22e69f5435",
   "metadata": {},
   "outputs": [],
   "source": [
    "# FILL IN a random word to check its counts\n",
    "example_word =\n",
    "lm.counts[example_word]"
   ]
  },
  {
   "cell_type": "code",
   "execution_count": null,
   "id": "d02e2aff-145d-4016-82b4-89d0f1375806",
   "metadata": {},
   "outputs": [],
   "source": [
    "# FILL IN an example bigram\n",
    "bigram_first_word = \n",
    "bigram_second_word =\n",
    "\n",
    "lm.counts[[bigram_first_word]][bigram_second_word]"
   ]
  },
  {
   "cell_type": "code",
   "execution_count": null,
   "id": "f1d432cd-7196-4d3e-a9c3-e609f096e6de",
   "metadata": {},
   "outputs": [],
   "source": [
    "# Check out the calculated probabilities for unigrams and bigrams (\"scores\")\n",
    "# These are the weights/parameters of the model, estimated from data\n",
    "\n",
    "print(lm.score(example_word))\n",
    "print(lm.score(bigram_second_word, [bigram_first_word]))"
   ]
  },
  {
   "cell_type": "code",
   "execution_count": null,
   "id": "a625a45c-62c9-4e8d-be42-21952a0f91f4",
   "metadata": {},
   "outputs": [],
   "source": [
    "# Check out the log probabilities, which are used in practice. Why are they always negative?\n",
    "\n",
    "lm.logscore(example_word)"
   ]
  },
  {
   "attachments": {
    "d7bc3a95-804a-4e63-b144-0475824b0559.png": {
     "image/png": "[encoded data removed]"
    }
   },
   "cell_type": "markdown",
   "id": "77f0a3e9-a12c-40f7-8520-9473d6414472",
   "metadata": {},
   "source": [
    "![Log_(2).svg-1.png](attachment:d7bc3a95-804a-4e63-b144-0475824b0559.png)  \n",
    "A reminder of the natural log function"
   ]
  },
  {
   "cell_type": "markdown",
   "id": "e4b944d7-95ea-4874-b52c-630fa2ff572d",
   "metadata": {},
   "source": [
    "# Evaluate perplexity on the test set"
   ]
  },
  {
   "cell_type": "code",
   "execution_count": null,
   "id": "9e1f142d-53bf-426d-95dc-a664f70d2853",
   "metadata": {},
   "outputs": [],
   "source": [
    "from nltk.util import bigrams, trigrams\n",
    "from nltk.lm.preprocessing import pad_both_ends\n",
    "\n",
    "processed_test = [list(bigrams(pad_both_ends(sent, n=2))) for sent in test]\n",
    "# processed_test = [list(trigrams(pad_both_ends(sent, n=3))) for sent in test]\n",
    "print(len(processed_test))\n",
    "print(processed_test[:3])"
   ]
  },
  {
   "cell_type": "code",
   "execution_count": null,
   "id": "73925272-b9c7-4ec3-981e-788978a1782a",
   "metadata": {},
   "outputs": [],
   "source": [
    "# Evaluate your model's perplexity on the test set, sentence by sentence\n",
    "for sent in processed_test[:50]:\n",
    "    print(lm.perplexity(sent))"
   ]
  },
  {
   "cell_type": "markdown",
   "id": "a690a90d-1955-4973-8dc6-39f854b1f230",
   "metadata": {},
   "source": [
    "Lots of `inf` values, what's going on there?"
   ]
  },
  {
   "cell_type": "code",
   "execution_count": null,
   "id": "33f2bd2e-1e6a-47b7-904d-ebb95b9d1d4a",
   "metadata": {},
   "outputs": [],
   "source": [
    "# FILL IN a random bigram it probably hasn't seen before\n",
    "bigram_first_word = 'dolphin'\n",
    "bigram_second_word = 'matters'\n",
    "\n",
    "lm.counts[[bigram_first_word]][bigram_second_word]"
   ]
  },
  {
   "cell_type": "code",
   "execution_count": null,
   "id": "7ce78b30-90f1-417c-8a84-812de76a4367",
   "metadata": {},
   "outputs": [],
   "source": [
    "lm.score(, ['bank'])"
   ]
  },
  {
   "cell_type": "code",
   "execution_count": null,
   "id": "6436d383-1000-4b9d-be73-069b72610a5f",
   "metadata": {},
   "outputs": [],
   "source": [
    "# Check out the calculated probabilities for unigrams and bigrams (\"scores\")\n",
    "print(lm.score(bigram_second_word, [bigram_first_word]))\n",
    "print(lm.logscore(bigram_second_word, [bigram_first_word]))"
   ]
  },
  {
   "cell_type": "code",
   "execution_count": null,
   "id": "8ec23dac-a484-47e1-9bec-89187afb4e18",
   "metadata": {},
   "outputs": [],
   "source": [
    "lm.perplexity([(bigram_first_word, bigram_second_word)])"
   ]
  }
 ],
 "metadata": {
  "kernelspec": {
   "display_name": "Python 3 (ipykernel)",
   "language": "python",
   "name": "python3"
  },
  "language_info": {
   "codemirror_mode": {
    "name": "ipython",
    "version": 3
   },
   "file_extension": ".py",
   "mimetype": "text/x-python",
   "name": "python",
   "nbconvert_exporter": "python",
   "pygments_lexer": "ipython3",
   "version": "3.11.5"
  }
 },
 "nbformat": 4,
 "nbformat_minor": 5
}
