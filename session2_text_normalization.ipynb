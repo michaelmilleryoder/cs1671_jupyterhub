{
 "cells": [
  {
   "cell_type": "markdown",
   "id": "fa6f5ed9-ca44-405d-bfe8-b298e3d341ca",
   "metadata": {},
   "source": [
    "# Airbnb data\n",
    "\n",
    "Choose a city's data from https://insideairbnb.com/get-the-data/, right-click `listings.csv.gz` and record the URL in this notebook to download it."
   ]
  },
  {
   "cell_type": "code",
   "execution_count": 6,
   "id": "c7a65933-f8e3-4ba1-a1a8-46bcf13b9e2a",
   "metadata": {},
   "outputs": [
    {
     "name": "stdout",
     "output_type": "stream",
     "text": [
      "--2025-01-11 11:27:24--  https://data.insideairbnb.com/united-states/tx/austin/2024-09-13/data/listings.csv.gz\n",
      "Resolving data.insideairbnb.com (data.insideairbnb.com)... 18.165.98.12, 18.165.98.45, 18.165.98.33, ...\n",
      "Connecting to data.insideairbnb.com (data.insideairbnb.com)|18.165.98.12|:443... connected.\n",
      "HTTP request sent, awaiting response... 200 OK\n",
      "Length: 8902975 (8.5M) [application/x-gzip]\n",
      "Saving to: ‘austin_listings.csv.gz’\n",
      "\n",
      "100%[======================================>] 8,902,975   54.5MB/s   in 0.2s   \n",
      "\n",
      "2025-01-11 11:27:25 (54.5 MB/s) - ‘austin_listings.csv.gz’ saved [8902975/8902975]\n",
      "\n"
     ]
    }
   ],
   "source": [
    "# Load data\n",
    "\n",
    "# These are Airbnb listings from Austin TX\n",
    "! wget https://data.insideairbnb.com/united-states/tx/austin/2024-09-13/data/listings.csv.gz -O austin_listings.csv.gz # has <br />\n",
    "! gunzip -c austin_listings.csv.gz > austin_listings.csv # This unzips the file into a regular CSV\n",
    "\n",
    "# Airbnb listings from Albany NY\n",
    "# ! wget https://data.insideairbnb.com/united-states/ny/albany/2024-11-05/data/listings.csv.gz -O albany_listings.csv.gz\n",
    "# ! gunzip -c albany_listings.csv.gz > albany_listings.csv # This unzips the file into a regular CSV\n",
    "\n",
    "# Airbnb listings from Mexico City, Mexico\n",
    "# ! wget https://data.insideairbnb.com/mexico/df/mexico-city/2024-09-25/data/listings.csv.gz -O mexico_city_listings.csv.gz\n",
    "# ! gunzip -c mexico_city_listings.csv.gz > mexico_city_listings.csv # This unzips the file into a regular CSV"
   ]
  },
  {
   "cell_type": "code",
   "execution_count": 1,
   "id": "5830c025-a753-48d2-b5a7-9dc3907ae3b8",
   "metadata": {},
   "outputs": [
    {
     "name": "stdout",
     "output_type": "stream",
     "text": [
      "<class 'pandas.core.frame.DataFrame'>\n",
      "RangeIndex: 15244 entries, 0 to 15243\n",
      "Data columns (total 75 columns):\n",
      " #   Column                                        Non-Null Count  Dtype  \n",
      "---  ------                                        --------------  -----  \n",
      " 0   id                                            15244 non-null  int64  \n",
      " 1   listing_url                                   15244 non-null  object \n",
      " 2   scrape_id                                     15244 non-null  int64  \n",
      " 3   last_scraped                                  15244 non-null  object \n",
      " 4   source                                        15244 non-null  object \n",
      " 5   name                                          15244 non-null  object \n",
      " 6   description                                   14775 non-null  object \n",
      " 7   neighborhood_overview                         8662 non-null   object \n",
      " 8   picture_url                                   15243 non-null  object \n",
      " 9   host_id                                       15244 non-null  int64  \n",
      " 10  host_url                                      15244 non-null  object \n",
      " 11  host_name                                     15242 non-null  object \n",
      " 12  host_since                                    15242 non-null  object \n",
      " 13  host_location                                 12875 non-null  object \n",
      " 14  host_about                                    9465 non-null   object \n",
      " 15  host_response_time                            11094 non-null  object \n",
      " 16  host_response_rate                            11094 non-null  object \n",
      " 17  host_acceptance_rate                          11804 non-null  object \n",
      " 18  host_is_superhost                             14782 non-null  object \n",
      " 19  host_thumbnail_url                            15242 non-null  object \n",
      " 20  host_picture_url                              15242 non-null  object \n",
      " 21  host_neighbourhood                            13522 non-null  object \n",
      " 22  host_listings_count                           15242 non-null  float64\n",
      " 23  host_total_listings_count                     15242 non-null  float64\n",
      " 24  host_verifications                            15242 non-null  object \n",
      " 25  host_has_profile_pic                          15242 non-null  object \n",
      " 26  host_identity_verified                        15242 non-null  object \n",
      " 27  neighbourhood                                 8662 non-null   object \n",
      " 28  neighbourhood_cleansed                        15244 non-null  int64  \n",
      " 29  neighbourhood_group_cleansed                  0 non-null      float64\n",
      " 30  latitude                                      15244 non-null  float64\n",
      " 31  longitude                                     15244 non-null  float64\n",
      " 32  property_type                                 15244 non-null  object \n",
      " 33  room_type                                     15244 non-null  object \n",
      " 34  accommodates                                  15244 non-null  int64  \n",
      " 35  bathrooms                                     11184 non-null  float64\n",
      " 36  bathrooms_text                                15233 non-null  object \n",
      " 37  bedrooms                                      14306 non-null  float64\n",
      " 38  beds                                          11155 non-null  float64\n",
      " 39  amenities                                     15244 non-null  object \n",
      " 40  price                                         11183 non-null  object \n",
      " 41  minimum_nights                                15244 non-null  int64  \n",
      " 42  maximum_nights                                15244 non-null  int64  \n",
      " 43  minimum_minimum_nights                        15244 non-null  int64  \n",
      " 44  maximum_minimum_nights                        15244 non-null  int64  \n",
      " 45  minimum_maximum_nights                        15244 non-null  int64  \n",
      " 46  maximum_maximum_nights                        15244 non-null  int64  \n",
      " 47  minimum_nights_avg_ntm                        15244 non-null  float64\n",
      " 48  maximum_nights_avg_ntm                        15244 non-null  float64\n",
      " 49  calendar_updated                              0 non-null      float64\n",
      " 50  has_availability                              13941 non-null  object \n",
      " 51  availability_30                               15244 non-null  int64  \n",
      " 52  availability_60                               15244 non-null  int64  \n",
      " 53  availability_90                               15244 non-null  int64  \n",
      " 54  availability_365                              15244 non-null  int64  \n",
      " 55  calendar_last_scraped                         15244 non-null  object \n",
      " 56  number_of_reviews                             15244 non-null  int64  \n",
      " 57  number_of_reviews_ltm                         15244 non-null  int64  \n",
      " 58  number_of_reviews_l30d                        15244 non-null  int64  \n",
      " 59  first_review                                  12184 non-null  object \n",
      " 60  last_review                                   12184 non-null  object \n",
      " 61  review_scores_rating                          12184 non-null  float64\n",
      " 62  review_scores_accuracy                        12182 non-null  float64\n",
      " 63  review_scores_cleanliness                     12182 non-null  float64\n",
      " 64  review_scores_checkin                         12181 non-null  float64\n",
      " 65  review_scores_communication                   12182 non-null  float64\n",
      " 66  review_scores_location                        12180 non-null  float64\n",
      " 67  review_scores_value                           12180 non-null  float64\n",
      " 68  license                                       0 non-null      float64\n",
      " 69  instant_bookable                              15244 non-null  object \n",
      " 70  calculated_host_listings_count                15244 non-null  int64  \n",
      " 71  calculated_host_listings_count_entire_homes   15244 non-null  int64  \n",
      " 72  calculated_host_listings_count_private_rooms  15244 non-null  int64  \n",
      " 73  calculated_host_listings_count_shared_rooms   15244 non-null  int64  \n",
      " 74  reviews_per_month                             12184 non-null  float64\n",
      "dtypes: float64(20), int64(22), object(33)\n",
      "memory usage: 8.7+ MB\n"
     ]
    }
   ],
   "source": [
    "# Load data with pandas\n",
    "\n",
    "import pandas as pd\n",
    "\n",
    "listings = pd.read_csv('austin_listings.csv') # reads CSV file into a pandas dataframe\n",
    "listings.info() # provide basic information about this dataframe"
   ]
  },
  {
   "cell_type": "code",
   "execution_count": 9,
   "id": "0293743a-ffbe-4c05-a426-336922c36290",
   "metadata": {},
   "outputs": [
    {
     "data": {
      "text/html": [
       "<div>\n",
       "<style scoped>\n",
       "    .dataframe tbody tr th:only-of-type {\n",
       "        vertical-align: middle;\n",
       "    }\n",
       "\n",
       "    .dataframe tbody tr th {\n",
       "        vertical-align: top;\n",
       "    }\n",
       "\n",
       "    .dataframe thead th {\n",
       "        text-align: right;\n",
       "    }\n",
       "</style>\n",
       "<table border=\"1\" class=\"dataframe\">\n",
       "  <thead>\n",
       "    <tr style=\"text-align: right;\">\n",
       "      <th></th>\n",
       "      <th>description</th>\n",
       "      <th>neighborhood_overview</th>\n",
       "    </tr>\n",
       "  </thead>\n",
       "  <tbody>\n",
       "    <tr>\n",
       "      <th>0</th>\n",
       "      <td>Great central  location for walking to Convention Center, Rainey Street, East 6th Street, Downtown, Congress Ave Bats.&lt;br /&gt;&lt;br /&gt;  Free wifi&lt;br /&gt;&lt;br /&gt;No Smoking,  No pets</td>\n",
       "      <td>My neighborhood is ideally located if you want to walk to bars and restaurants downtown, East 6th Street or Rainey Street.  The Convention Center is only 3 1/2 blocks away and a quick 10 minute walk. Whole foods store located 5 blks , easily walkable.</td>\n",
       "    </tr>\n",
       "    <tr>\n",
       "      <th>1</th>\n",
       "      <td>NaN</td>\n",
       "      <td>Quiet neighborhood with lots of trees and good neighbors.</td>\n",
       "    </tr>\n",
       "    <tr>\n",
       "      <th>2</th>\n",
       "      <td>Great studio apartment, perfect a single person or a couples. Available as a month-to-month rental. If you're looking for a different month than the one that's open, please ask. Just 1 mile into downtown. Convenient for walking, biking, rideshare or busing into downtown, UT campus and other central Austin spots. Walk to the 10-mile looped Town Lake Trail. Airy space with very nice amenities, fresh coffee beans and a private patio.</td>\n",
       "      <td>Travis Heights is one of the oldest neighborhoods in Austin. Our house was built in 1937. We rebuilt the apartment in 2009 (well, finished and furnished it for rental then). From the studio it's a pretty easy 1-mile walk through the neighborhood to all the shops and restaurants on South Congress.</td>\n",
       "    </tr>\n",
       "    <tr>\n",
       "      <th>3</th>\n",
       "      <td>Clean, private space with everything you need for a quiet, comfy, private stay close to Zilker Park and Barton Springs, the river, parks, trails, and downtown. King bed, vaulted ceilings, high-speed fiber internet. Quality furnishings and amenities will make you feel at home. We offer contactless check-in/checkout, if you like (and we are vaccinated).</td>\n",
       "      <td>The neighborhood is fun and funky (but quiet)! People are friendly  and you can't beat the location.</td>\n",
       "    </tr>\n",
       "    <tr>\n",
       "      <th>4</th>\n",
       "      <td>Studio rental on lower level of home located in a 1950s neighborhood less than two miles from downtown Austin and close to bus routes.&lt;br /&gt;&lt;br /&gt;On stays less than 30 nights additional Austin city hotel taxes of 11% will be collected separately following confirmation of reservation.&lt;br /&gt;&lt;br /&gt;Texas state hotel taxes will be collected by Airbnb.&lt;br /&gt;&lt;br /&gt;Hotel taxes apply for all stays of 29 nights or less.  No hotel taxes are charged for rentals of 30 nights or more.</td>\n",
       "      <td>NaN</td>\n",
       "    </tr>\n",
       "  </tbody>\n",
       "</table>\n",
       "</div>"
      ],
      "text/plain": [
       "                                                                                                                                                                                                                                                                                                                                                                                                                                                                                   description  \\\n",
       "0                                                                                                                                                                                                                                                                                                                Great central  location for walking to Convention Center, Rainey Street, East 6th Street, Downtown, Congress Ave Bats.<br /><br />  Free wifi<br /><br />No Smoking,  No pets   \n",
       "1                                                                                                                                                                                                                                                                                                                                                                                                                                                                                          NaN   \n",
       "2                                           Great studio apartment, perfect a single person or a couples. Available as a month-to-month rental. If you're looking for a different month than the one that's open, please ask. Just 1 mile into downtown. Convenient for walking, biking, rideshare or busing into downtown, UT campus and other central Austin spots. Walk to the 10-mile looped Town Lake Trail. Airy space with very nice amenities, fresh coffee beans and a private patio.   \n",
       "3                                                                                                                            Clean, private space with everything you need for a quiet, comfy, private stay close to Zilker Park and Barton Springs, the river, parks, trails, and downtown. King bed, vaulted ceilings, high-speed fiber internet. Quality furnishings and amenities will make you feel at home. We offer contactless check-in/checkout, if you like (and we are vaccinated).   \n",
       "4  Studio rental on lower level of home located in a 1950s neighborhood less than two miles from downtown Austin and close to bus routes.<br /><br />On stays less than 30 nights additional Austin city hotel taxes of 11% will be collected separately following confirmation of reservation.<br /><br />Texas state hotel taxes will be collected by Airbnb.<br /><br />Hotel taxes apply for all stays of 29 nights or less.  No hotel taxes are charged for rentals of 30 nights or more.   \n",
       "\n",
       "                                                                                                                                                                                                                                                                                       neighborhood_overview  \n",
       "0                                                My neighborhood is ideally located if you want to walk to bars and restaurants downtown, East 6th Street or Rainey Street.  The Convention Center is only 3 1/2 blocks away and a quick 10 minute walk. Whole foods store located 5 blks , easily walkable.  \n",
       "1                                                                                                                                                                                                                                                  Quiet neighborhood with lots of trees and good neighbors.  \n",
       "2  Travis Heights is one of the oldest neighborhoods in Austin. Our house was built in 1937. We rebuilt the apartment in 2009 (well, finished and furnished it for rental then). From the studio it's a pretty easy 1-mile walk through the neighborhood to all the shops and restaurants on South Congress.  \n",
       "3                                                                                                                                                                                                       The neighborhood is fun and funky (but quiet)! People are friendly  and you can't beat the location.  \n",
       "4                                                                                                                                                                                                                                                                                                        NaN  "
      ]
     },
     "execution_count": 9,
     "metadata": {},
     "output_type": "execute_result"
    }
   ],
   "source": [
    "# Expand pandas view (good for seeing more of text)\n",
    "pd.set_option('display.max_colwidth', None)\n",
    "selected_data.head()"
   ]
  },
  {
   "cell_type": "markdown",
   "id": "9658d329-3795-409b-90c9-393d4e2d8697",
   "metadata": {},
   "source": [
    "# Cleaning with regular expressions\n",
    "Let's remove extraneous text like `br />`"
   ]
  },
  {
   "cell_type": "code",
   "execution_count": 2,
   "id": "12bd6231-04ef-4730-a13a-b8303ff7d4db",
   "metadata": {},
   "outputs": [
    {
     "data": {
      "text/html": [
       "<div>\n",
       "<style scoped>\n",
       "    .dataframe tbody tr th:only-of-type {\n",
       "        vertical-align: middle;\n",
       "    }\n",
       "\n",
       "    .dataframe tbody tr th {\n",
       "        vertical-align: top;\n",
       "    }\n",
       "\n",
       "    .dataframe thead th {\n",
       "        text-align: right;\n",
       "    }\n",
       "</style>\n",
       "<table border=\"1\" class=\"dataframe\">\n",
       "  <thead>\n",
       "    <tr style=\"text-align: right;\">\n",
       "      <th></th>\n",
       "      <th>description</th>\n",
       "      <th>description_processed</th>\n",
       "    </tr>\n",
       "  </thead>\n",
       "  <tbody>\n",
       "    <tr>\n",
       "      <th>0</th>\n",
       "      <td>Great central  location for walking to Convent...</td>\n",
       "      <td>Great central  location for walking to Convent...</td>\n",
       "    </tr>\n",
       "    <tr>\n",
       "      <th>1</th>\n",
       "      <td>NaN</td>\n",
       "      <td>NaN</td>\n",
       "    </tr>\n",
       "    <tr>\n",
       "      <th>2</th>\n",
       "      <td>Great studio apartment, perfect a single perso...</td>\n",
       "      <td>Great studio apartment, perfect a single perso...</td>\n",
       "    </tr>\n",
       "    <tr>\n",
       "      <th>3</th>\n",
       "      <td>Clean, private space with everything you need ...</td>\n",
       "      <td>Clean, private space with everything you need ...</td>\n",
       "    </tr>\n",
       "    <tr>\n",
       "      <th>4</th>\n",
       "      <td>Studio rental on lower level of home located i...</td>\n",
       "      <td>Studio rental on lower level of home located i...</td>\n",
       "    </tr>\n",
       "  </tbody>\n",
       "</table>\n",
       "</div>"
      ],
      "text/plain": [
       "                                         description  \\\n",
       "0  Great central  location for walking to Convent...   \n",
       "1                                                NaN   \n",
       "2  Great studio apartment, perfect a single perso...   \n",
       "3  Clean, private space with everything you need ...   \n",
       "4  Studio rental on lower level of home located i...   \n",
       "\n",
       "                               description_processed  \n",
       "0  Great central  location for walking to Convent...  \n",
       "1                                                NaN  \n",
       "2  Great studio apartment, perfect a single perso...  \n",
       "3  Clean, private space with everything you need ...  \n",
       "4  Studio rental on lower level of home located i...  "
      ]
     },
     "execution_count": 2,
     "metadata": {},
     "output_type": "execute_result"
    }
   ],
   "source": [
    "# Do this with pandas' built-in string functions\n",
    "# TODO: link to these functions\n",
    "listings['description_processed'] = listings['description'].str.replace(r'<br\\s*/>', ' ', regex=True)\n",
    "listings[['description', 'description_processed']].head()"
   ]
  },
  {
   "cell_type": "code",
   "execution_count": 3,
   "id": "91726cc3-f784-4298-9ee0-52a39d2e2fa5",
   "metadata": {},
   "outputs": [
    {
     "data": {
      "text/html": [
       "<div>\n",
       "<style scoped>\n",
       "    .dataframe tbody tr th:only-of-type {\n",
       "        vertical-align: middle;\n",
       "    }\n",
       "\n",
       "    .dataframe tbody tr th {\n",
       "        vertical-align: top;\n",
       "    }\n",
       "\n",
       "    .dataframe thead th {\n",
       "        text-align: right;\n",
       "    }\n",
       "</style>\n",
       "<table border=\"1\" class=\"dataframe\">\n",
       "  <thead>\n",
       "    <tr style=\"text-align: right;\">\n",
       "      <th></th>\n",
       "      <th>description</th>\n",
       "      <th>description_processed</th>\n",
       "    </tr>\n",
       "  </thead>\n",
       "  <tbody>\n",
       "    <tr>\n",
       "      <th>0</th>\n",
       "      <td>Great central  location for walking to Convent...</td>\n",
       "      <td>Great central  location for walking to Convent...</td>\n",
       "    </tr>\n",
       "    <tr>\n",
       "      <th>1</th>\n",
       "      <td>NaN</td>\n",
       "      <td></td>\n",
       "    </tr>\n",
       "    <tr>\n",
       "      <th>2</th>\n",
       "      <td>Great studio apartment, perfect a single perso...</td>\n",
       "      <td>Great studio apartment, perfect a single perso...</td>\n",
       "    </tr>\n",
       "    <tr>\n",
       "      <th>3</th>\n",
       "      <td>Clean, private space with everything you need ...</td>\n",
       "      <td>Clean, private space with everything you need ...</td>\n",
       "    </tr>\n",
       "    <tr>\n",
       "      <th>4</th>\n",
       "      <td>Studio rental on lower level of home located i...</td>\n",
       "      <td>Studio rental on lower level of home located i...</td>\n",
       "    </tr>\n",
       "  </tbody>\n",
       "</table>\n",
       "</div>"
      ],
      "text/plain": [
       "                                         description  \\\n",
       "0  Great central  location for walking to Convent...   \n",
       "1                                                NaN   \n",
       "2  Great studio apartment, perfect a single perso...   \n",
       "3  Clean, private space with everything you need ...   \n",
       "4  Studio rental on lower level of home located i...   \n",
       "\n",
       "                               description_processed  \n",
       "0  Great central  location for walking to Convent...  \n",
       "1                                                     \n",
       "2  Great studio apartment, perfect a single perso...  \n",
       "3  Clean, private space with everything you need ...  \n",
       "4  Studio rental on lower level of home located i...  "
      ]
     },
     "execution_count": 3,
     "metadata": {},
     "output_type": "execute_result"
    }
   ],
   "source": [
    "# Convert NaN values to empty strings\n",
    "listings['description_processed'] = listings['description_processed'].fillna('')\n",
    "listings[['description', 'description_processed']].head()"
   ]
  },
  {
   "cell_type": "markdown",
   "id": "81b15583-e75b-4f74-9d38-6198aef82044",
   "metadata": {},
   "source": [
    "# Tokenization\n",
    "Tokenization is the process of breaking text up into words! Here we will use the `nltk` package to tokenize."
   ]
  },
  {
   "cell_type": "code",
   "execution_count": 4,
   "id": "2c8c8ae8-5853-4f72-90d4-56172efedd23",
   "metadata": {},
   "outputs": [],
   "source": [
    "import nltk"
   ]
  },
  {
   "cell_type": "code",
   "execution_count": 7,
   "id": "06400aca-37a6-4649-a5f9-d647b0ed6f96",
   "metadata": {},
   "outputs": [
    {
     "name": "stderr",
     "output_type": "stream",
     "text": [
      "[nltk_data] Downloading package punkt_tab to\n",
      "[nltk_data]     /ihome/cs1671_2025s/mmyoder/nltk_data...\n",
      "[nltk_data]   Unzipping tokenizers/punkt_tab.zip.\n"
     ]
    },
    {
     "data": {
      "text/plain": [
       "True"
      ]
     },
     "execution_count": 7,
     "metadata": {},
     "output_type": "execute_result"
    }
   ],
   "source": [
    "# Only need to do once\n",
    "nltk.download('punkt_tab')"
   ]
  },
  {
   "cell_type": "code",
   "execution_count": null,
   "id": "64a9f171-e85f-4332-9c7b-1195efc2f8ac",
   "metadata": {},
   "outputs": [],
   "source": [
    "# Apply tokenizer from nltk to column\n",
    "def tokenize(text):\n",
    "    tokens_list = nltk.word_tokenize(text)\n",
    "    return ' '.join(tokens_list)\n",
    "    \n",
    "listings['description_processed'] = listings['description_processed'].map(tokenize)\n",
    "listings[['description', 'description_processed']].head()"
   ]
  },
  {
   "cell_type": "markdown",
   "id": "b7933202-f83e-4190-8422-1112f126fc66",
   "metadata": {},
   "source": [
    "# Lowercasing"
   ]
  },
  {
   "cell_type": "code",
   "execution_count": 9,
   "id": "146442e8-b1bb-466c-abc3-1fe0f953763d",
   "metadata": {},
   "outputs": [
    {
     "data": {
      "text/html": [
       "<div>\n",
       "<style scoped>\n",
       "    .dataframe tbody tr th:only-of-type {\n",
       "        vertical-align: middle;\n",
       "    }\n",
       "\n",
       "    .dataframe tbody tr th {\n",
       "        vertical-align: top;\n",
       "    }\n",
       "\n",
       "    .dataframe thead th {\n",
       "        text-align: right;\n",
       "    }\n",
       "</style>\n",
       "<table border=\"1\" class=\"dataframe\">\n",
       "  <thead>\n",
       "    <tr style=\"text-align: right;\">\n",
       "      <th></th>\n",
       "      <th>description</th>\n",
       "      <th>description_processed</th>\n",
       "    </tr>\n",
       "  </thead>\n",
       "  <tbody>\n",
       "    <tr>\n",
       "      <th>0</th>\n",
       "      <td>Great central  location for walking to Convent...</td>\n",
       "      <td>great central location for walking to conventi...</td>\n",
       "    </tr>\n",
       "    <tr>\n",
       "      <th>1</th>\n",
       "      <td>NaN</td>\n",
       "      <td></td>\n",
       "    </tr>\n",
       "    <tr>\n",
       "      <th>2</th>\n",
       "      <td>Great studio apartment, perfect a single perso...</td>\n",
       "      <td>great studio apartment , perfect a single pers...</td>\n",
       "    </tr>\n",
       "    <tr>\n",
       "      <th>3</th>\n",
       "      <td>Clean, private space with everything you need ...</td>\n",
       "      <td>clean , private space with everything you need...</td>\n",
       "    </tr>\n",
       "    <tr>\n",
       "      <th>4</th>\n",
       "      <td>Studio rental on lower level of home located i...</td>\n",
       "      <td>studio rental on lower level of home located i...</td>\n",
       "    </tr>\n",
       "  </tbody>\n",
       "</table>\n",
       "</div>"
      ],
      "text/plain": [
       "                                         description  \\\n",
       "0  Great central  location for walking to Convent...   \n",
       "1                                                NaN   \n",
       "2  Great studio apartment, perfect a single perso...   \n",
       "3  Clean, private space with everything you need ...   \n",
       "4  Studio rental on lower level of home located i...   \n",
       "\n",
       "                               description_processed  \n",
       "0  great central location for walking to conventi...  \n",
       "1                                                     \n",
       "2  great studio apartment , perfect a single pers...  \n",
       "3  clean , private space with everything you need...  \n",
       "4  studio rental on lower level of home located i...  "
      ]
     },
     "execution_count": 9,
     "metadata": {},
     "output_type": "execute_result"
    }
   ],
   "source": [
    "listings['description_processed'] = listings['description_processed'].str.lower()\n",
    "listings[['description', 'description_processed']].head()"
   ]
  },
  {
   "cell_type": "markdown",
   "id": "9a2975e7-0a5b-44fe-ba78-f5b017036224",
   "metadata": {},
   "source": [
    "# Stemming"
   ]
  },
  {
   "cell_type": "code",
   "execution_count": 15,
   "id": "09135c38-0fbb-444f-87cb-ef8fd749a708",
   "metadata": {},
   "outputs": [
    {
     "data": {
      "application/vnd.jupyter.widget-view+json": {
       "model_id": "24eb2223ef0941a98d84addafec8eaef",
       "version_major": 2,
       "version_minor": 0
      },
      "text/plain": [
       "  0%|          | 0/15244 [00:00<?, ?it/s]"
      ]
     },
     "metadata": {},
     "output_type": "display_data"
    },
    {
     "data": {
      "text/html": [
       "<div>\n",
       "<style scoped>\n",
       "    .dataframe tbody tr th:only-of-type {\n",
       "        vertical-align: middle;\n",
       "    }\n",
       "\n",
       "    .dataframe tbody tr th {\n",
       "        vertical-align: top;\n",
       "    }\n",
       "\n",
       "    .dataframe thead th {\n",
       "        text-align: right;\n",
       "    }\n",
       "</style>\n",
       "<table border=\"1\" class=\"dataframe\">\n",
       "  <thead>\n",
       "    <tr style=\"text-align: right;\">\n",
       "      <th></th>\n",
       "      <th>description</th>\n",
       "      <th>description_processed</th>\n",
       "    </tr>\n",
       "  </thead>\n",
       "  <tbody>\n",
       "    <tr>\n",
       "      <th>0</th>\n",
       "      <td>Great central  location for walking to Convent...</td>\n",
       "      <td>great central locat for walk to convent center...</td>\n",
       "    </tr>\n",
       "    <tr>\n",
       "      <th>1</th>\n",
       "      <td>NaN</td>\n",
       "      <td></td>\n",
       "    </tr>\n",
       "    <tr>\n",
       "      <th>2</th>\n",
       "      <td>Great studio apartment, perfect a single perso...</td>\n",
       "      <td>great studio apart , perfect a singl person or...</td>\n",
       "    </tr>\n",
       "    <tr>\n",
       "      <th>3</th>\n",
       "      <td>Clean, private space with everything you need ...</td>\n",
       "      <td>clean , privat space with everyth you need for...</td>\n",
       "    </tr>\n",
       "    <tr>\n",
       "      <th>4</th>\n",
       "      <td>Studio rental on lower level of home located i...</td>\n",
       "      <td>studio rental on lower level of home locat in ...</td>\n",
       "    </tr>\n",
       "  </tbody>\n",
       "</table>\n",
       "</div>"
      ],
      "text/plain": [
       "                                         description  \\\n",
       "0  Great central  location for walking to Convent...   \n",
       "1                                                NaN   \n",
       "2  Great studio apartment, perfect a single perso...   \n",
       "3  Clean, private space with everything you need ...   \n",
       "4  Studio rental on lower level of home located i...   \n",
       "\n",
       "                               description_processed  \n",
       "0  great central locat for walk to convent center...  \n",
       "1                                                     \n",
       "2  great studio apart , perfect a singl person or...  \n",
       "3  clean , privat space with everyth you need for...  \n",
       "4  studio rental on lower level of home locat in ...  "
      ]
     },
     "execution_count": 15,
     "metadata": {},
     "output_type": "execute_result"
    }
   ],
   "source": [
    "# Progress bar since it takes awhile\n",
    "from tqdm.auto import tqdm\n",
    "tqdm.pandas()\n",
    "\n",
    "stemmer = nltk.PorterStemmer()\n",
    "\n",
    "def stem(text):\n",
    "    tokens = text.split()\n",
    "    stemmed_tokens = [stemmer.stem(t) for t in tokens]\n",
    "    return ' '.join(stemmed_tokens)\n",
    "\n",
    "listings['description_processed'] = listings['description_processed'].progress_map(stem)\n",
    "listings[['description', 'description_processed']].head()"
   ]
  },
  {
   "cell_type": "markdown",
   "id": "e227df3d-39a7-4914-b770-27a47905ad3f",
   "metadata": {},
   "source": [
    "# Could put subword tokenization (just have an example)"
   ]
  }
 ],
 "metadata": {
  "kernelspec": {
   "display_name": "Python [conda env:cloned_conda_env]",
   "language": "python",
   "name": "conda-env-cloned_conda_env-py"
  },
  "language_info": {
   "codemirror_mode": {
    "name": "ipython",
    "version": 3
   },
   "file_extension": ".py",
   "mimetype": "text/x-python",
   "name": "python",
   "nbconvert_exporter": "python",
   "pygments_lexer": "ipython3",
   "version": "3.11.5"
  }
 },
 "nbformat": 4,
 "nbformat_minor": 5
}
