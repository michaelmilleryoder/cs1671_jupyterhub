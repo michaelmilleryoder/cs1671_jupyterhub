{
 "cells": [
  {
   "cell_type": "markdown",
   "id": "a6928d21-163c-4761-acce-0bd133e8416c",
   "metadata": {},
   "source": [
    "# Prompt Google Gemini API\n",
    "In this notebook, you will get started with prompting through an API and using templates (parameterized) prompts.\n",
    "\n",
    "Note that you will need an API key for Gemini. Visit [this link](https://aistudio.google.com/app/apikey?_gl=1*1b92fgo*_ga*MzE0NDA4NDcyLjE3NDI5NTM4OTA.*_ga_P1DBVKWT6V*MTc0Mjk1Mzg5MC4xLjEuMTc0Mjk1NDg0MS42MC4wLjE3ODkzNzI3ODM.) to set that up with a Google login.\n",
    "\n",
    "Reference: https://ai.google.dev/gemini-api/docs/quickstart?lang=python"
   ]
  },
  {
   "cell_type": "code",
   "execution_count": null,
   "id": "aa4b5ccb-6e1e-4729-89a8-24d0bc3c0f11",
   "metadata": {},
   "outputs": [],
   "source": [
    "! pip install --user google-genai"
   ]
  },
  {
   "cell_type": "markdown",
   "id": "bb5d4f19-51f1-4fb7-bb53-9e01e6717a8b",
   "metadata": {},
   "source": [
    "Now restart your kernel with **Kernel > Restart Kernel**. Test the installation by running:"
   ]
  },
  {
   "cell_type": "code",
   "execution_count": null,
   "id": "7d0daee5-bee3-4136-9b5e-57d28966491f",
   "metadata": {},
   "outputs": [],
   "source": [
    "from google import genai"
   ]
  },
  {
   "cell_type": "markdown",
   "id": "490c83c5-3ed0-49dd-93d9-c3e13298934a",
   "metadata": {},
   "source": [
    "# Create client and set API key"
   ]
  },
  {
   "cell_type": "code",
   "execution_count": null,
   "id": "710a2ac5-6a0d-4b01-bd14-a33212014b3e",
   "metadata": {},
   "outputs": [],
   "source": [
    "from google import genai\n",
    "\n",
    "api_key = '' # FILL IN\n",
    "client = genai.Client(api_key=api_key)"
   ]
  },
  {
   "cell_type": "markdown",
   "id": "f36cb05b-0306-4ea3-a8e6-c5bb4a49045d",
   "metadata": {},
   "source": [
    "# Start prompting!\n",
    "Test a few prompts"
   ]
  },
  {
   "cell_type": "code",
   "execution_count": null,
   "id": "08b0afe3-15a4-4008-aa58-6ea99bbf229a",
   "metadata": {},
   "outputs": [],
   "source": [
    "prompt = '' # FILL IN\n",
    "\n",
    "response = client.models.generate_content(\n",
    "    model=\"gemini-2.0-flash\", contents=prompt\n",
    ")\n",
    "print(response.text)"
   ]
  },
  {
   "cell_type": "markdown",
   "id": "29095766-f80c-4e6c-befb-94f23527324d",
   "metadata": {},
   "source": [
    "# Try automated prompting through templates"
   ]
  },
  {
   "cell_type": "code",
   "execution_count": null,
   "id": "31d27186-30e8-4750-bf11-ca3e5955f3a6",
   "metadata": {},
   "outputs": [],
   "source": [
    "input_words = [\n",
    "    'inflammable',\n",
    "    'car',\n",
    "    'monkey',\n",
    "    'actually'\n",
    "] # this could be loaded from a dataset, for example"
   ]
  },
  {
   "cell_type": "code",
   "execution_count": null,
   "id": "927d5b3a-f405-40e2-afe6-9c9f08d656d7",
   "metadata": {},
   "outputs": [],
   "source": [
    "prompt_template = 'What is another word for {input}?'\n",
    "\n",
    "for word in input_words:\n",
    "    prompt = prompt_template.replace('{input}', word)\n",
    "    print(f'Prompt: {prompt}')\n",
    "    response = client.models.generate_content(model=\"gemini-2.0-flash\", contents=prompt)\n",
    "    print(response.text)\n",
    "    print('***************************************************')"
   ]
  },
  {
   "cell_type": "markdown",
   "id": "3aa7f9a7-b452-4d03-9f9d-b9bfb6c520c9",
   "metadata": {},
   "source": [
    "How might you modify your prompt to get a more helpful answer, such as a more concise answer?"
   ]
  }
 ],
 "metadata": {
  "kernelspec": {
   "display_name": "Python 3 (ipykernel)",
   "language": "python",
   "name": "python3"
  },
  "language_info": {
   "codemirror_mode": {
    "name": "ipython",
    "version": 3
   },
   "file_extension": ".py",
   "mimetype": "text/x-python",
   "name": "python",
   "nbconvert_exporter": "python",
   "pygments_lexer": "ipython3",
   "version": "3.11.5"
  }
 },
 "nbformat": 4,
 "nbformat_minor": 5
}
