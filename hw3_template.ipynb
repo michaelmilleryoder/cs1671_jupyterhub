{
 "cells": [
  {
   "cell_type": "markdown",
   "metadata": {
    "id": "mb4Yr8KhRhbe"
   },
   "source": [
    "# Homework 3: Large language model (LLM) prompting\n",
    "\n",
    "## Learning objectives\n",
    "After completing this assignment, students will be able to:     \n",
    "* Prompt LLMs programmatically with templates (parameterized)\n",
    "* Demonstrate the difference between zero-shot, few-shot, and chain-of-thought prompting\n",
    "* Engineer and test different prompts\n",
    "\n",
    "## Overview\n",
    "In this assignment, you will explore different prompting techniques for OpenAI LLMs. You will fill in a Jupyter notebook hosted on the Pitt CRCD to run your code.\n",
    "\n",
    "## OpenAI account setup\n",
    "Until the class OpenAI account is available, you will have to use your own account with free credits. You will need an OpenAI account and API key, you can [sign up here](https://www.google.com/url?q=https%3A%2F%2Fplatform.openai.com%2Fsignup%3Flaunch) and learn [how to make an API key here](https://www.google.com/url?q=https%3A%2F%2Fhelp.openai.com%2Fen%2Farticles%2F4936850-where-do-i-find-my-secret-api-key). The OpenAI API is paid, however, this homework will stay well under the free $5 credit given to each account. Be careful not to exhaust your free OpenAI credits while testing. You can check [on this page here](https://www.google.com/url?q=https%3A%2F%2Fplatform.openai.com%2Faccount%2Fusage). To avoid exhausting your credits quickly, avoid running cells over and over again after you've completed an exercise.  \n",
    "\n",
    "## Deliverables\n",
    "1. Your code: the Jupyter notebook you modified from the template. Submit:\n",
    "    * your .ipynb file\n",
    "    * a **.html export of your notebook**. To get a .html version, click File > Save and Export Notebook As... > HTML from within JupyterLab. \n",
    "2. A PDF report with answers to questions provided in the template notebook. Please name your report `hw3_{your pitt email id}.pdf`. No need to include @pitt.edu, just use the email ID before that part. For example: `report_mmyoder_hw3.pdf`. Make sure to include the following additional information:\n",
    "    * any additional resources, references, or web pages you've consulted\n",
    "    * any person with whom you've discussed the assignment and describe the nature of your discussions\n",
    "    * any generative AI tool used, and how it was used\n",
    "    * any unresolved issues or problems\n",
    "\n",
    "Please submit all of this material on Canvas. We will grade your report and may look over your code.\n",
    "\n",
    "## Recommended Readings\n",
    "- [Language Models are Few-Shot Learners](https://arxiv.org/pdf/2005.14165.pdf). Tom B. Brown, Benjamin Mann, Nick Ryder, Melanie Subbiah, Jared Kaplan, ...others. ArXiV 2020.\n",
    "- [Pre-train, Prompt, and Predict: A Systematic Survey of Prompting Methods in Natural Language Processing](https://arxiv.org/pdf/2107.13586.pdf). Pengfei Liu, Weizhe Yuan, Jinlan Fu, Zhengbao Jiang, Hiroaki Hayashi, Graham Neubig. ACM Computing Surveys 2021.\n",
    "- [Best practices for prompt engineering with OpenAI API](https://help.openai.com/en/articles/6654000-best-practices-for-prompt-engineering-with-openai-api). Jessica Shieh. OpenAI 2023.\n",
    "- [Training language models to follow instructions with human feedback](https://arxiv.org/pdf/2203.02155.pdf). Long Ouyang, Jeff Wu, Xu Jiang, Diogo Almeida, Carroll L. Wainwright, ...others. ArXiV 2020.\n",
    "- [Chain-of-Thought Prompting Elicits Reasoning in Large Language Models](https://arxiv.org/pdf/2201.11903.pdf). Jason Wei, Xuezhi Wang, Dale Schuurmans, Maarten Bosma, brian ichter, Fei Xia, Ed H. Chi, Quoc V Le, Denny Zhou. NeurIPS 2022.\n",
    "\n",
    "## Acknowledgments\n",
    "This assignment is based on a homework assignment designed by Mark Yatskar and provided by Lorraine Li.\n",
    "\n",
    "**To get started, start filling in this Jupyter notebook.**\n"
   ]
  },
  {
   "cell_type": "markdown",
   "metadata": {
    "id": "CHrdyiQdBt2K"
   },
   "source": [
    "## Setup 1: Dataset / Package\n",
    "**Run the following cells and enter your OpenAI API Key!**\n",
    "Note that you will have to restart your kernel after installing the `openai` package."
   ]
  },
  {
   "cell_type": "code",
   "execution_count": null,
   "metadata": {
    "id": "lNBeJLVcSusU"
   },
   "outputs": [],
   "source": [
    "%%capture\n",
    "!pip install openai datasets\n",
    "\n",
    "import openai\n",
    "from openai import OpenAI\n",
    "from time import sleep\n",
    "from datasets import load_dataset\n",
    "from functools import partial\n",
    "\n",
    "IMDB_DATASET = load_dataset(\"imdb\", split='train').shuffle(42)[0:200]\n",
    "IMDB_DATASET_X = IMDB_DATASET['text']\n",
    "IMDB_DATASET_Y = IMDB_DATASET['label']\n",
    "del IMDB_DATASET\n",
    "\n",
    "\n",
    "## TODO - Start\n",
    "OPENAI_API_KEY = \"\"\n",
    "## TODO - End\n",
    "\n",
    "cache = {}\n",
    "def run_gpt3(prompt, return_first_line = True, instruction_tuned = False):\n",
    "    # Return the response from the cache if we have already run this\n",
    "    cache_key = (prompt, return_first_line, instruction_tuned)\n",
    "    if cache_key in cache:\n",
    "        return cache[cache_key]\n",
    "    client = OpenAI(\n",
    "      api_key=OPENAI_API_KEY,\n",
    "    )\n",
    "    # Set the API Key\n",
    "\n",
    "\n",
    "    # Select the model\n",
    "    if instruction_tuned:\n",
    "        model = \"gpt-3.5-turbo-instruct\"\n",
    "    else:\n",
    "        model = \"davinci-002\"\n",
    "\n",
    "    # Send the prompt to GPT-3\n",
    "    for i in range(0,60,6):\n",
    "        try:\n",
    "            response = client.completions.create(\n",
    "                model=model,\n",
    "                prompt=prompt,\n",
    "                temperature=0,\n",
    "                max_tokens=100,\n",
    "                top_p=1,\n",
    "                frequency_penalty=0.0,\n",
    "                presence_penalty=0.0,\n",
    "            )\n",
    "            response = dict(response)['choices'][0]\n",
    "            response = dict(response)['text'].strip()\n",
    "            break\n",
    "        except Exception as e:\n",
    "            print(e)\n",
    "            sleep(i)\n",
    "\n",
    "    # Parse the response\n",
    "    if return_first_line:\n",
    "        final_response = response.split('.')[0]+'.'\n",
    "        if '\\n' in final_response:\n",
    "          final_response = response.split('\\n')[0]\n",
    "    else:\n",
    "        final_response = response\n",
    "\n",
    "    # Cache and return the response\n",
    "    cache[cache_key] = final_response\n",
    "    return final_response"
   ]
  },
  {
   "cell_type": "code",
   "execution_count": null,
   "metadata": {
    "id": "_34IstJ9bTOt"
   },
   "outputs": [],
   "source": [
    "def grade_gpt3_starts_with_answer(prompt, input, answer, **kwargs):\n",
    "    model_output = run_gpt3(prompt.replace(\"{input}\", input), **kwargs).strip().lower()\n",
    "    answer = answer.lower()\n",
    "    return model_output.startswith(answer)\n",
    "\n",
    "def grade_gpt3_contains_answer(prompt, first_line_only, input, answer, **kwargs):\n",
    "    model_output = run_gpt3(prompt.replace(\"{input}\", input), return_first_line=first_line_only, **kwargs).strip().lower()\n",
    "    answer = answer.lower()\n",
    "    return answer in model_output"
   ]
  },
  {
   "cell_type": "markdown",
   "metadata": {
    "id": "KKvfbQtibDXM"
   },
   "source": [
    "## Setup 2 Define Test Cases"
   ]
  },
  {
   "cell_type": "code",
   "execution_count": null,
   "metadata": {
    "id": "m02ctSwIbOKK"
   },
   "outputs": [],
   "source": [
    "def test_capital_of_country(prompt):\n",
    "    correct = sum([\n",
    "        grade_gpt3_contains_answer(prompt, True, \"Canada\", \"Ottawa\"),\n",
    "        grade_gpt3_contains_answer(prompt, True, \"India\", \"New Delhi\"),\n",
    "        grade_gpt3_contains_answer(prompt, True, \"Turkey\", \"Ankara\"),\n",
    "        grade_gpt3_contains_answer(prompt, True, \"China\", \"Beijing\"),\n",
    "        grade_gpt3_contains_answer(prompt, True, \"Japan\", \"Tokyo\")\n",
    "    ])\n",
    "\n",
    "    if correct >= 3:\n",
    "        return (3, 3)\n",
    "    else:\n",
    "        return (0, 3)"
   ]
  },
  {
   "cell_type": "code",
   "execution_count": null,
   "metadata": {
    "id": "3Uxep2iJc2lO"
   },
   "outputs": [],
   "source": [
    "def test_director_of_movie(prompt):\n",
    "    correct = sum([\n",
    "        grade_gpt3_contains_answer(prompt, True, \"Toy Story\", \"John Lasseter\"),\n",
    "        grade_gpt3_contains_answer(prompt, True, \"Pulp Fiction\", \"Quentin Tarantino\"),\n",
    "        grade_gpt3_contains_answer(prompt, True, \"Jurassic Park\", \"Steven Spielberg\"),\n",
    "        grade_gpt3_contains_answer(prompt, True, \"Star Wars: Episode IV – A New Hope\", \"George Lucas\"),\n",
    "        grade_gpt3_contains_answer(prompt, True, \"The Dark Knight\", \"Christopher Nolan\")\n",
    "    ])\n",
    "    if correct >= 3:\n",
    "        return (3, 3)\n",
    "    else:\n",
    "        return (0, 3)"
   ]
  },
  {
   "cell_type": "code",
   "execution_count": null,
   "metadata": {
    "id": "m_Nh2PuKdECe"
   },
   "outputs": [],
   "source": [
    "def test_synonyms_of_word(prompt, first_line_only):\n",
    "    correct = sum([\n",
    "        grade_gpt3_contains_answer(prompt, first_line_only, \"car\", \"vehicle\"),\n",
    "        grade_gpt3_contains_answer(prompt, first_line_only, \"cold\", \"frigid\"),\n",
    "        grade_gpt3_contains_answer(prompt, first_line_only,\"mad\", \"angry\"),\n",
    "        grade_gpt3_contains_answer(prompt, first_line_only,\"desk\", \"table\"),\n",
    "        grade_gpt3_contains_answer(prompt, first_line_only,\"gift\", \"present\")\n",
    "    ])\n",
    "    if correct >= 3:\n",
    "        return (3, 3)\n",
    "    else:\n",
    "        return (0, 3)"
   ]
  },
  {
   "cell_type": "code",
   "execution_count": null,
   "metadata": {
    "id": "6jp4fwp6dEFO"
   },
   "outputs": [],
   "source": [
    "def test_ingredients_of_food(prompt, first_line_only):\n",
    "    correct = sum([\n",
    "        grade_gpt3_contains_answer(prompt, first_line_only, \"tiramisu\", \"coffee\"),\n",
    "        grade_gpt3_contains_answer(prompt, first_line_only, \"pesto\", \"leaves\"),\n",
    "        grade_gpt3_contains_answer(prompt, first_line_only, \"samosa\", \"masala\"),\n",
    "        grade_gpt3_contains_answer(prompt, first_line_only, \"hummus\", \"chickpeas\"),\n",
    "        grade_gpt3_contains_answer(prompt, first_line_only, \"macaroon\", \"coconut\")\n",
    "    ])\n",
    "    if correct >= 3:\n",
    "        return (3, 3)\n",
    "    else:\n",
    "        return (0, 3)"
   ]
  },
  {
   "cell_type": "code",
   "execution_count": null,
   "metadata": {
    "id": "zhWHQtOddEIO"
   },
   "outputs": [],
   "source": [
    "def test_quotee_of_quote(prompt):\n",
    "    correct = sum([\n",
    "        grade_gpt3_starts_with_answer(prompt, '\"If you can\\'t handle me at my worst, then you sure as hell don\\'t deserve me at my best.\"', \"Marilyn Monroe\"),\n",
    "        grade_gpt3_contains_answer(prompt, True, '\"The only thing we have to fear is fear itself.\"', \"Roosevelt\"),\n",
    "        grade_gpt3_starts_with_answer(prompt, '\"Genius is one percent inspiration and ninety-nine percent perspiration.\"', \"Thomas Edison\"),\n",
    "        grade_gpt3_starts_with_answer(prompt, '\"Nothing is certain except for death and taxes.\"', \"Benjamin Franklin\"),\n",
    "        grade_gpt3_starts_with_answer(prompt, '\"Life is like riding a bicycle. To keep your balance, you must keep moving.\"', \"Albert Einstein\")\n",
    "    ])\n",
    "    if correct >= 3:\n",
    "        if any([q_word in prompt.lower() for q_word in [\"who\", \"what\", \"when\", \"where\", \"why\", \"how\"]]):\n",
    "            return (1, 3)\n",
    "        if \"?\" in prompt:\n",
    "            return (1, 3)\n",
    "        return (3, 3)\n",
    "    else:\n",
    "        return (0, 3)"
   ]
  },
  {
   "cell_type": "code",
   "execution_count": null,
   "metadata": {
    "id": "up9uYcrcdEK9"
   },
   "outputs": [],
   "source": [
    "def test_korean_to_english(prompt):\n",
    "    correct = sum([\n",
    "        grade_gpt3_contains_answer(prompt, True, \"책상\", \"desk\"),\n",
    "        grade_gpt3_contains_answer(prompt, True, \"책\", \"book\"),\n",
    "        grade_gpt3_contains_answer(prompt, True, \"창문\", \"window\"),\n",
    "        grade_gpt3_contains_answer(prompt, True, \"나무\", \"tree\"),\n",
    "        grade_gpt3_contains_answer(prompt, True, \"트럭\", \"truck\")\n",
    "    ])\n",
    "    if correct >= 5:\n",
    "        return (5, 5)\n",
    "    else:\n",
    "        return (0, 5)\n"
   ]
  },
  {
   "cell_type": "code",
   "execution_count": null,
   "metadata": {
    "id": "1CW8jHzodENj"
   },
   "outputs": [],
   "source": [
    "def test_to_jeopardy_answer(prompt):\n",
    "    correct = sum([\n",
    "        grade_gpt3_contains_answer(prompt, True, \"Hawaii\", \"is Hawaii?\"),\n",
    "        grade_gpt3_contains_answer(prompt, True, \"trees\", \"What are trees?\"),\n",
    "        grade_gpt3_contains_answer(prompt, True, \"The Empire State Building\", \"What is the Empire State Building?\"),\n",
    "        grade_gpt3_contains_answer(prompt, True, \"Neil Armstrong\", \"Who is Neil Armstrong?\"),\n",
    "        grade_gpt3_contains_answer(prompt, True, \"John Legend\", \"Who is John Legend?\")\n",
    "    ])\n",
    "    if correct >= 5:\n",
    "        return (5, 5)\n",
    "    else:\n",
    "        return (0, 5)\n",
    "\n"
   ]
  },
  {
   "cell_type": "code",
   "execution_count": null,
   "metadata": {
    "id": "kfdC0RotdEQC"
   },
   "outputs": [],
   "source": [
    "def test_english_to_spanish(prompt):\n",
    "    correct = sum([\n",
    "        grade_gpt3_starts_with_answer(prompt, \"desk\", \"escritorio\", instruction_tuned=True),\n",
    "        grade_gpt3_starts_with_answer(prompt, \"book\", \"libro\", instruction_tuned=True),\n",
    "        grade_gpt3_starts_with_answer(prompt, \"window\", \"ventana\", instruction_tuned=True),\n",
    "        grade_gpt3_starts_with_answer(prompt, \"bed\", \"cama\", instruction_tuned=True),\n",
    "        grade_gpt3_starts_with_answer(prompt, \"bread\", \"pan\", instruction_tuned=True)\n",
    "    ])\n",
    "    if correct >= 5:\n",
    "        return (5, 5)\n",
    "    else:\n",
    "        return (0, 5)"
   ]
  },
  {
   "cell_type": "code",
   "execution_count": null,
   "metadata": {
    "id": "V4X9ztQJwmyp"
   },
   "outputs": [],
   "source": [
    "def print_message(score, max_score):\n",
    "  if score == max_score:\n",
    "    print('Correct! You earned {}/{} points. You are a star!'.format(score, max_score))\n",
    "  else:\n",
    "    print(\"You missed some points, try to check what's wrong\")"
   ]
  },
  {
   "cell_type": "markdown",
   "metadata": {
    "id": "PGlvLsC9B-gI"
   },
   "source": [
    "# Section 1: Exploring Prompting\n",
    "**Background:** Prompting is a way to guide a language model, which is ultimately just a model that predicts the most likely next sequence of words, to complete some arbitrary task you want it to complete. We'll walk through a few examples and then you'll try creating your own prompts.\n",
    "\n",
    "A language model will \"complete\" (just like autocomplete) your prompt with what words are most likely to come next. We demonstrate this is the case by showing how GPT-3 completes movie quotes, when giving it the beginning of the quote:"
   ]
  },
  {
   "cell_type": "code",
   "execution_count": null,
   "metadata": {
    "colab": {
     "base_uri": "https://localhost:8080/"
    },
    "id": "YcILHclcou0L",
    "outputId": "69e99d1a-1b2a-49d5-a5e0-ab6fdc787438"
   },
   "outputs": [
    {
     "name": "stdout",
     "output_type": "stream",
     "text": [
      "you never know what you’re gonna get.\n",
      "comes great responsibility.\n",
      "James Bond.\n",
      "have a problem.\n",
      "Kansas anymore.\n"
     ]
    }
   ],
   "source": [
    "print(run_gpt3(\"Life is like a box of chocolates,\"))\n",
    "print(run_gpt3(\"With great power,\"))\n",
    "print(run_gpt3(\"The name's Bond.\"))\n",
    "print(run_gpt3(\"Houston, we\"))\n",
    "print(run_gpt3(\"I've a feeling we're not in\"))"
   ]
  },
  {
   "cell_type": "markdown",
   "metadata": {
    "id": "RJKLr2kjatM3"
   },
   "source": [
    "Now imagine we give a prompt like this:"
   ]
  },
  {
   "cell_type": "code",
   "execution_count": null,
   "metadata": {
    "colab": {
     "base_uri": "https://localhost:8080/"
    },
    "id": "L-XKt2tpZzi7",
    "outputId": "f2a57f77-da96-4c79-a533-61490ffcc2b6"
   },
   "outputs": [
    {
     "name": "stdout",
     "output_type": "stream",
     "text": [
      "George Washington was the first president of the United States.\n"
     ]
    }
   ],
   "source": [
    "print(run_gpt3(\"Question: Who was the first president of the United States? Answer:\"))"
   ]
  },
  {
   "cell_type": "markdown",
   "metadata": {
    "id": "Q41x7bVXbLY-"
   },
   "source": [
    "By posing a question and writing \"Answer:\" at the end, we make it such that the most likely next sequence of words is the answer to the question! This is the key to large language models being able to perform arbitrary tasks, even though they are only trained to predict the next word.\n",
    "\n",
    "We can parameterize this prompt and make it reusable for different questions:"
   ]
  },
  {
   "cell_type": "code",
   "execution_count": null,
   "metadata": {
    "colab": {
     "base_uri": "https://localhost:8080/"
    },
    "id": "YeHF3-OPZ601",
    "outputId": "d15bbff6-51c3-432c-a2fa-686dffa06247"
   },
   "outputs": [
    {
     "name": "stdout",
     "output_type": "stream",
     "text": [
      "Apple Computer Inc.\n",
      "Top Gun.\n",
      "Tomatoes are a fruit.\n"
     ]
    }
   ],
   "source": [
    "QA_PROMPT = \"Question: {input} Answer:\"\n",
    "print(run_gpt3(QA_PROMPT.replace(\"{input}\", \"What company did Steve Jobs found?\")))\n",
    "print(run_gpt3(QA_PROMPT.replace(\"{input}\", \"What's the movie with Tom Cruise about fighter jets?\")))\n",
    "print(run_gpt3(QA_PROMPT.replace(\"{input}\", \"Are tomatoes a fruit or a vegetable?\")))"
   ]
  },
  {
   "cell_type": "markdown",
   "metadata": {
    "id": "cWLiOfB_fB-T"
   },
   "source": [
    "Now that you've seen a few examples it's time for you to come up with a few of your own prompts! Make sure you parameterize them with `{input}` before sending the prompt. All your prompts should be reuseable when the grader does `.replace(\"{input}\", ...)` on them.\n",
    "\n",
    "Note: These models are not easy to control. Therefore, it's okay if your prompt does not always get the answer right or also spews extra text along with the answer (as long as the answer comes first)."
   ]
  },
  {
   "cell_type": "markdown",
   "metadata": {
    "id": "TUnnuRJfbXf5"
   },
   "source": [
    "- **Problem 1.1:** Write a prompt that returns the capital of country."
   ]
  },
  {
   "cell_type": "code",
   "execution_count": null,
   "metadata": {
    "id": "hVUR92UPbSkn"
   },
   "outputs": [],
   "source": [
    "# TODO\n",
    "CAPITAL_OF_COUNTRY_PROMPT = \"\"\n",
    "\n",
    "# Grader - DO NOT CHANGE\n",
    "your_score, max_score = test_capital_of_country(CAPITAL_OF_COUNTRY_PROMPT)\n",
    "print_message(your_score, max_score)"
   ]
  },
  {
   "cell_type": "markdown",
   "metadata": {
    "id": "U-GAJhyvbido"
   },
   "source": [
    " - **Problem 1.2:** Write a prompt that given a famous movie returns the director."
   ]
  },
  {
   "cell_type": "code",
   "execution_count": null,
   "metadata": {
    "id": "pTANEQk9bpa_"
   },
   "outputs": [],
   "source": [
    "# TODO\n",
    "DIRECTOR_OF_MOVIE_PROMPT = \"\"\n",
    "\n",
    "# Grader - DO NOT CHANGE\n",
    "your_score, max_score = test_director_of_movie(DIRECTOR_OF_MOVIE_PROMPT)\n",
    "print_message(your_score, max_score)"
   ]
  },
  {
   "cell_type": "markdown",
   "metadata": {
    "id": "cjol744PbwIl"
   },
   "source": [
    " - **Problem 1.3:** Write a prompt that given a word, returns a list of synonyms. (Hint: use `return_first_line=False` as an argument when using `run_gpt3`)"
   ]
  },
  {
   "cell_type": "code",
   "execution_count": null,
   "metadata": {
    "id": "guWIM6eLb2jA"
   },
   "outputs": [],
   "source": [
    "# TODO\n",
    "SYNONYMS_OF_WORD_PROMPT = \"\"\n",
    "\n",
    "# Grader - DO NOT CHANGE\n",
    "your_score, max_score = test_synonyms_of_word(SYNONYMS_OF_WORD_PROMPT, first_line_only=False)\n",
    "print_message(your_score, max_score)"
   ]
  },
  {
   "cell_type": "markdown",
   "metadata": {
    "id": "2cuv5HzCbpzW"
   },
   "source": [
    " - **Problem 1.4:** Write a prompt that given a food item (\"cookies\"), returns a list of ingredients used to make that food item. (Hint: use `return_first_line=False` as an argument when using `run_gpt3`)"
   ]
  },
  {
   "cell_type": "code",
   "execution_count": null,
   "metadata": {
    "id": "eB3WOnVKbv_R"
   },
   "outputs": [],
   "source": [
    "# TODO\n",
    "INGREDIENTS_OF_FOOD_PROMPT = \"\"\n",
    "\n",
    "# Grader - DO NOT CHANGE\n",
    "your_score, max_score = test_ingredients_of_food(INGREDIENTS_OF_FOOD_PROMPT, first_line_only=False)\n",
    "print_message(your_score, max_score)"
   ]
  },
  {
   "cell_type": "markdown",
   "metadata": {
    "id": "droxlfchrFiK"
   },
   "source": [
    "**Problem 1.5:** Write a prompt that given a famous quote (\"One small step for man, one giant leap for mankind.\", quote characters included), returns the name of the person who said the quote (quotee).\n",
    "\n",
    "*Extra Challenge:* We want you to try to complete this one without question marks (\"?\") or question words (\"Who\", \"What\", etc.). You will only get full points if your prompt does not contain those."
   ]
  },
  {
   "cell_type": "code",
   "execution_count": null,
   "metadata": {
    "id": "TZxbEh14rF3e"
   },
   "outputs": [],
   "source": [
    "# TODO\n",
    "QUOTEE_OF_QUOTE_PROMPT = \"\"\n",
    "\n",
    "# Grader\n",
    "your_score, max_score = test_quotee_of_quote(QUOTEE_OF_QUOTE_PROMPT)\n",
    "print_message(your_score, max_score)"
   ]
  },
  {
   "cell_type": "markdown",
   "metadata": {
    "id": "jpJIgznD_mw4"
   },
   "source": [
    "# Section 2: Prompt Engineering\n",
    "\n",
    "\n",
    "\n",
    "The prompts you have used up to this point have been fairly basic and straightforward to create. But what if you have a more difficult task and it seems like your prompt isn't working? *Prompt engineering* is the procecss of iterating on a prompt in clever ways to induce the model to produce what you want. The best way of prompt engineering systematically vs. randomly is by understanding how the underlying model was trained and what data it was trained on to best prompt the model.\n",
    "\n",
    "Imagine we want the model to generate a quote in Donald Trump's style of talking about a certain topic:"
   ]
  },
  {
   "cell_type": "code",
   "execution_count": null,
   "metadata": {
    "colab": {
     "base_uri": "https://localhost:8080/"
    },
    "id": "AwBHGjCc6fdu",
    "outputId": "9727cc8d-73e3-4795-82f2-805adf1c304b"
   },
   "outputs": [
    {
     "name": "stdout",
     "output_type": "stream",
     "text": [
      "He would say it’s a great time to buy stocks.\n",
      "I think the stock market is going to go up, up, up, up, up, up, up, up, up, up, up, up, up, up, up, up, up, up, up, up, up, up, up, up, up, up, up, up, up, up, up, up, up, up, up, up, up, up, up, up, up, up, up, up, up, up.\n",
      "I think we're going to have a very good year in the stock market\".\n",
      "I don't know if the stock market is going to be up or down\" and that \"it's a very big bubble.\n"
     ]
    }
   ],
   "source": [
    "DONALD_TRUMP_PROMPT = \"Question: What would Donald Trump say about {input}? Answer:\"\n",
    "DONALD_TRUMP_PROMPT_ENGINEERED_1 = 'On the topic of {input}, Donald Trump was quoted as saying \"'\n",
    "DONALD_TRUMP_PROMPT_ENGINEERED_2 = 'On the topic of {input}, Donald Trump expressed optimism saying \"'\n",
    "DONALD_TRUMP_PROMPT_ENGINEERED_3 = 'On the topic of {input}, Donald Trump expressed doubt saying \"'\n",
    "\n",
    "print(run_gpt3(DONALD_TRUMP_PROMPT.replace(\"{input}\", 'the stock market'))) # Doesn't work\n",
    "print(run_gpt3(DONALD_TRUMP_PROMPT_ENGINEERED_1.replace(\"{input}\", 'the stock market'))) # Works!\n",
    "print(run_gpt3(DONALD_TRUMP_PROMPT_ENGINEERED_2.replace(\"{input}\", 'the stock market'))) # Works!\n",
    "print(run_gpt3(DONALD_TRUMP_PROMPT_ENGINEERED_3.replace(\"{input}\", 'the stock market'))) # Works!"
   ]
  },
  {
   "cell_type": "markdown",
   "metadata": {
    "id": "1PhkpaGlCVPf"
   },
   "source": [
    "The first naive prompt doesn't really work. After prompt engineering, not only do we get a much more realistic generation of his style, but we can also control whether he is talking about the topic positively or negatively.\n",
    "\n",
    "**Please respond to the following questions in your report**\n",
    "\n",
    "* **Problem 2.1:** Why did the `DONALD_TRUMP_PROMPT_ENGINEERED_1` prompt work much better than the `DONALD_TRUMP_PROMPT` prompt?"
   ]
  },
  {
   "cell_type": "markdown",
   "metadata": {
    "id": "aEkQ_gUOTPOT"
   },
   "source": [
    "A prompt that is well-engineered can effectively solve difficult NLP tasks that previously were solved by fine-tuning models. In lecture, we showed some examples of these.\n",
    "\n",
    "**Problem 2.2:** Write a prompt that will solve the [sentiment classification task](https://en.wikipedia.org/wiki/Sentiment_analysis), and classify [movie reviews](https://ai.stanford.edu/~amaas/data/sentiment/) as *positive* or *negative*. `IMDB_DATASET_X` and `IMDB_DATASET_Y` contain 200 reviews and sentiment labels (1 = positive, 0 = negative). Get as high of an accuracy as you can on these. Place your `MOVIE_SENTIMENT` prompt and `POSITIVE_VEBALIZERS` and `NEGATIVE_VERBALIZERS` in `report.pdf` for manual grading. Along with your `correct` (out of 200) score.\n",
    "\n",
    "*Warning:* Be careful not to exhaust your free OpenAI credits while testing, you can check [on this page here](https://platform.openai.com/account/usage). To avoid exhausting your credits quickly, test your code on a few examples from the IMDB dataset first, and then scale up to the full 200."
   ]
  },
  {
   "cell_type": "code",
   "execution_count": null,
   "metadata": {
    "id": "FivGbeAmVOK7"
   },
   "outputs": [],
   "source": [
    "# TODO\n",
    "MOVIE_SENTIMENT_PROMPT = \"\"\n",
    "\n",
    "POSITIVE_VERBALIZERS = [\n",
    "    \"good\",\n",
    "    # TODO - Add other positive verbalizers ...\n",
    "]\n",
    "NEGATIVE_VERBALIZERS = [\n",
    "    \"bad\",\n",
    "    # TODO - Add other negative verbalizers ...\n",
    "]\n",
    "\n",
    "def map_to_sentiment_label(gpt3_output):\n",
    "    for v in POSITIVE_VERBALIZERS:\n",
    "        if v.lower() in gpt3_output[:20].lower():\n",
    "            return 1\n",
    "    for v in NEGATIVE_VERBALIZERS:\n",
    "        if v.lower() in gpt3_output[:20].lower():\n",
    "            return 0\n",
    "    return None\n",
    "\n",
    "correct = 0\n",
    "for review, label in zip(IMDB_DATASET_X, IMDB_DATASET_Y):\n",
    "    gpt3_output = run_gpt3(MOVIE_SENTIMENT_PROMPT.replace(\"{input}\", review))\n",
    "    prediction = map_to_sentiment_label(gpt3_output)\n",
    "    if prediction == label:\n",
    "        correct += 1\n",
    "    print(f\"Prediction: {prediction}, Label: {label}\")\n",
    "print(f\"Correct: {correct}/200\")"
   ]
  },
  {
   "cell_type": "markdown",
   "metadata": {
    "id": "gsi2i4y64kvP"
   },
   "source": [
    "# Section 3: Few-Shot Prompting\n",
    "\n",
    "The prompts you have seen up until this point are zero-shot prompts, in that we are asking the model to complete a task without any examples. By providing some examples in the prompt, the model becomes significantly more capable. We'll show an example.\n",
    "\n",
    "Consider the task of figuring out a more complex version of a word:"
   ]
  },
  {
   "cell_type": "code",
   "execution_count": null,
   "metadata": {
    "colab": {
     "base_uri": "https://localhost:8080/"
    },
    "id": "RZs-_4-S_vww",
    "outputId": "d4e1ae75-2624-40c9-8bfa-90472dd40cd9"
   },
   "outputs": [
    {
     "name": "stdout",
     "output_type": "stream",
     "text": [
      "Happy is a simple word.\n",
      "elated\n"
     ]
    }
   ],
   "source": [
    "ZERO_SHOT_COMPLEX_PROMPT = \"Question: What is a more complex word for {input}? Answer:\"\n",
    "FEW_SHOT_COMPLEX_PROMPT = \"angry : aggrieved\\nsad : depressed\\n{input} :\"\n",
    "\n",
    "print(run_gpt3(ZERO_SHOT_COMPLEX_PROMPT.replace(\"{input}\", 'happy'))) # Doesn't work\n",
    "print(run_gpt3(FEW_SHOT_COMPLEX_PROMPT.replace(\"{input}\", 'happy'))) # Works!"
   ]
  },
  {
   "cell_type": "markdown",
   "metadata": {
    "id": "yotgY6JWHCRL"
   },
   "source": [
    "The first zero-shot prompt where we have no example doesn't work at all, where as when we give 2 examples in the few-shot prompt (2-shot prompt), it works.\n",
    "\n",
    "Now that you've seen an example of few-shot prompting, it's your turn to try it.\n",
    "\n",
    "**Problem 3.1:** Write a few-shot prompt that translates a Korean word to an English word."
   ]
  },
  {
   "cell_type": "code",
   "execution_count": null,
   "metadata": {
    "id": "lEf2PB9WHSus"
   },
   "outputs": [],
   "source": [
    "# TODO\n",
    "KOREAN_TO_ENGLISH_PROMPT = \"\" # Solution\n",
    "\n",
    "# Grader\n",
    "your_score, max_score = test_korean_to_english(KOREAN_TO_ENGLISH_PROMPT)\n",
    "print_message(your_score, max_score)"
   ]
  },
  {
   "cell_type": "markdown",
   "metadata": {
    "id": "afOSMXJ7U-ty"
   },
   "source": [
    "**Problem 3.2:** Write a few-shot prompt that converts an input into a [Jeopardy! style answer](https://en.wikipedia.org/wiki/Jeopardy!#:~:text=Rather%20than%20being%20given%20questions,the%20form%20of%20a%20question.) (The Great Lakes -> \"What are the Great Lakes?\" or Taylor Swift -> \"Who is Taylor Swift?\")"
   ]
  },
  {
   "cell_type": "code",
   "execution_count": null,
   "metadata": {
    "id": "iPxTwMR8V92B"
   },
   "outputs": [],
   "source": [
    "# TODO\n",
    "TO_JEOPARDY_ANSWER_PROMPT = \"\" # Solution\n",
    "\n",
    "# Grader\n",
    "your_score, max_score = test_to_jeopardy_answer(TO_JEOPARDY_ANSWER_PROMPT)\n",
    "print_message(your_score, max_score)"
   ]
  },
  {
   "cell_type": "markdown",
   "metadata": {
    "id": "ZykJv03wYrb8"
   },
   "source": [
    "**Please respond to the following question in your `report.pdf`**\n",
    "\n",
    "**Problem 3.3:** Come up with 3 more arbitrary tasks, where a zero-shot prompt might not suffice, and a few-shot prompt would be required. Provide a short write up describing what your tasks are. Provide examples of a zero-prompt not working for it. Then, show us your few-shot prompt and some results. Be creative and try to pick 3 tasks that are somewhat distinct from each other!"
   ]
  },
  {
   "cell_type": "markdown",
   "metadata": {
    "id": "xfGRGgLCc38j"
   },
   "source": [
    "# Section 4: Prompting Instruction-Tuned Models\n",
    "\n",
    "Large language models can be *instruction-tuned*, fine-tuned with examples of instructions and responses to those instructions, to make them easier to prompt and friendlier to humans. Instruction-tuned models can more easily be given natural langauge instructions describing a task you want them to complete. This makes it so that they are more performant without requiring as much prompt engineering and makes them more likely to succeed with just zero-shot prompting. The version of GPT-3 we were working with in previous exercises was not instruction-tuned, we now will use instruction-tuned models from here on out:"
   ]
  },
  {
   "cell_type": "code",
   "execution_count": null,
   "metadata": {
    "colab": {
     "base_uri": "https://localhost:8080/"
    },
    "id": "HC0Rc41Hdikw",
    "outputId": "db7da579-a753-4c7f-d00a-46c60716b5bd"
   },
   "outputs": [
    {
     "name": "stdout",
     "output_type": "stream",
     "text": [
      "\"Who is the most famous person in the world?\".\n",
      "\"What is the name of the Grammy-winning singer-songwriter known for hits like 'Shake It Off' and 'Blank Space'?\".\n"
     ]
    }
   ],
   "source": [
    "TO_JEOPARDY_INSTRUCTION_PROMPT = \"What would a Jeopardy! contestant say if the answer was \\\"{input}\\\"?\"\n",
    "\n",
    "print(run_gpt3(TO_JEOPARDY_INSTRUCTION_PROMPT.replace(\"{input}\", 'Taylor Swift'))) # Doesn't work on non-instruction tuned model\n",
    "print(run_gpt3(TO_JEOPARDY_INSTRUCTION_PROMPT.replace(\"{input}\", 'Taylor Swift'), instruction_tuned=True)) # Works and is simpler!"
   ]
  },
  {
   "cell_type": "markdown",
   "metadata": {
    "id": "zl-njdLbg6Hr"
   },
   "source": [
    "As you can see, these instruction-tuned models make it much simpler to complete complex tasks since you can \"talk\" to them naturally. We'll now ask you to try.\n",
    "\n",
    "**Problem 4.1:** Write a prompt that returns the Spanish word given an English word (painting -> pintura).\n",
    "\n",
    "*Extra Challenge:* We want you to complete this one such that the model only returns a single Spanish word and nothing else. You will only get points if your model only returns a single Spanish word and nothing else."
   ]
  },
  {
   "cell_type": "code",
   "execution_count": null,
   "metadata": {
    "id": "CoU6zfxps06_"
   },
   "outputs": [],
   "source": [
    "# TODO\n",
    "ENGLISH_TO_SPANISH_PROMPT = \"\"\n",
    "\n",
    "# Grader\n",
    "your_score, max_score = test_english_to_spanish(ENGLISH_TO_SPANISH_PROMPT)\n",
    "print_message(your_score, max_score)"
   ]
  },
  {
   "cell_type": "markdown",
   "metadata": {
    "id": "SSvhJyZUqNyz"
   },
   "source": [
    "**Please respond to the following question in your `report.pdf`**\n",
    "\n",
    "**Problem 4.2:** Come up with 3 more arbitrary tasks, where the non-instruction-tuned model might not suffice, and an instruction-tuned model would be required. Provide a short write up describing what your tasks are. Provide examples of a prompt not working on a non-instruction-tuned model. Then, show us your instruction prompt on an instruction-tuned model and some results. Be creative and try to pick 3 tasks that are somewhat distinct from each other!"
   ]
  },
  {
   "cell_type": "markdown",
   "metadata": {
    "id": "bVbLbnc3rbbx"
   },
   "source": [
    "# Section 5: Chain-of-Thought Reasoning\n",
    "\n",
    "One recent method to prompt large language models is Chain-of-Thought Prompting. This is similar to few-shot prompting, except you not only provide a few examples, but you also provide an explanation with a reasoning chain to the model. Providing this reasoning chain as been shown to improve performance on a wide variety of tasks.\n",
    "\n",
    "We demonstrate on a task that consists of 2 arithmetic operations over 3 single digit numbers:"
   ]
  },
  {
   "cell_type": "code",
   "execution_count": null,
   "metadata": {
    "colab": {
     "base_uri": "https://localhost:8080/"
    },
    "id": "R0VXpCRMsqUR",
    "outputId": "262d0567-e0c5-4099-f3cf-942908af8177"
   },
   "outputs": [
    {
     "name": "stdout",
     "output_type": "stream",
     "text": [
      "4185.\n",
      "220 * 19 = 4180. 4180 - 5 = 4175\n"
     ]
    }
   ],
   "source": [
    "FEW_SHOT_ARITHMETIC_PROMPT = \"2 * 4 + 2?\\n10\\n6 + 7 - 2\\n11\\n{input}?\"\n",
    "COT_ARITHMETIC_PROMPT = \"2 * 4 + 2?\\n2 * 4 = 8. 8 + 2 = 10\\n6 + 7 - 2?\\n6 + 7 = 13. 13 - 2 = 11\\n{input}?\"\n",
    "\n",
    "print(run_gpt3(FEW_SHOT_ARITHMETIC_PROMPT.replace(\"{input}\", '220 * 19 - 5'), instruction_tuned=True)) # Doesn't work without CoT prompting\n",
    "print(run_gpt3(COT_ARITHMETIC_PROMPT.replace(\"{input}\", '220 * 19 - 5'), return_first_line=False, instruction_tuned=True)) # Works!"
   ]
  },
  {
   "cell_type": "markdown",
   "metadata": {
    "id": "Vwy3ToB2wAG9"
   },
   "source": [
    "Next, we create a dataset with 50 examples:"
   ]
  },
  {
   "cell_type": "code",
   "execution_count": null,
   "metadata": {
    "id": "uaGLMcb20fjK"
   },
   "outputs": [],
   "source": [
    "import random\n",
    "import re\n",
    "\n",
    "def compute(x, operand, y):\n",
    "    if operand == '+':\n",
    "        return x + y\n",
    "    elif operand == '-':\n",
    "        return x - y\n",
    "    elif operand == '*':\n",
    "        return x * y\n",
    "\n",
    "def create_arithmetic_dataset(n_examples, seed = 42):\n",
    "    random.seed(seed)\n",
    "    X = []\n",
    "    y = []\n",
    "    for i in range(n_examples):\n",
    "        num_1 = random.randint(0,100)\n",
    "        operator_1 = random.choice(['+', '-', '*'])\n",
    "        num_2 = random.randint(0,100)\n",
    "        operator_2 = random.choice(['+', '-', '*'])\n",
    "        num_3 = random.randint(0,100)\n",
    "        if operator_2 == '*' and operator_1 != '*':\n",
    "            # Order of operations:\n",
    "            # Do the right-hand side first\n",
    "            intermediate = compute(num_2, operator_2, num_3)\n",
    "            final = compute(num_1, operator_1, intermediate)\n",
    "        else:\n",
    "            intermediate = compute(num_1, operator_1, num_2)\n",
    "            final = compute(intermediate, operator_2, num_3)\n",
    "        X.append(f'{num_1} {operator_1} {num_2} {operator_2} {num_3}')\n",
    "        y.append(final)\n",
    "    return X, y\n",
    "\n",
    "def parse_answer(model_output):\n",
    "    '''Parses the output of the model to get the final answer.'''\n",
    "    try:\n",
    "        # Gets the last number in the string using regex and returns\n",
    "        # that\n",
    "        return int(re.search(r'(\\d+)(?!.*\\d)', model_output)[0])\n",
    "    except TypeError:\n",
    "        return None\n",
    "\n",
    "arithmetic_X, arithmetic_y = create_arithmetic_dataset(50)"
   ]
  },
  {
   "cell_type": "markdown",
   "metadata": {
    "id": "VHqtOpHp6Vjq"
   },
   "source": [
    "**Please respond to the following questions in your report**\n",
    "\n",
    "**Problem 5.1:** Your job is to investigate how few-shot Chain-of-Thought prompting performs vs. regular few-shot prompting over the entire arithmetic dataset and grade how many out of 50 are correct. Perform this experiment 6 times each with a different number of regular few-shot examples (1 example, 2 examples, 4 examples, 8 examples, 16 examples, 32 examples) and 6 times again each with a different number of Chain-of-Thought few-shot examples (1 CoT example, 2 CoT examples, 4 CoT examples, 8 CoT examples, 16 CoT examples, 32 CoT examples).\n",
    "\n",
    "Create a table or plot of (N examples) vs. (% questions correct by the model with a few-shot prompt with N examples) vs. (% questions correct by the model with a CoT prompt with N examples). Report this table or plot in `report.pdf` with a short write-up about your observations. Keep the code used to build your table or plot in your notebook for inspection during grading.\n",
    "\n",
    "*Note:* Make sure you use `instruction_tuned = True`.\n",
    "\n",
    "*Hint:* You might find the `parse_answer` function helpful when grading how many of the model's outputs are correct or not.\n",
    "\n",
    "*Warning:* Be careful not to exhaust your free OpenAI credits while testing, you can check [on this page here](https://platform.openai.com/account/usage). To avoid exhausting your credits quickly, test your code on a smaller arithmetic dataset first, and then scale up to the full one to report your results."
   ]
  },
  {
   "cell_type": "code",
   "execution_count": null,
   "metadata": {
    "id": "z34fPG7g7yVM"
   },
   "outputs": [],
   "source": [
    "# TODO - Solve Problem 5.1 here\n",
    "\n",
    "#### SOLUTION BELOW\n",
    "\n",
    "\n",
    "#### SOLUTION ABOVE"
   ]
  }
 ],
 "metadata": {
  "colab": {
   "collapsed_sections": [
    "CHrdyiQdBt2K",
    "KKvfbQtibDXM"
   ],
   "provenance": []
  },
  "kernelspec": {
   "display_name": "Python 3 (ipykernel)",
   "language": "python",
   "name": "python3"
  },
  "language_info": {
   "codemirror_mode": {
    "name": "ipython",
    "version": 3
   },
   "file_extension": ".py",
   "mimetype": "text/x-python",
   "name": "python",
   "nbconvert_exporter": "python",
   "pygments_lexer": "ipython3",
   "version": "3.11.5"
  }
 },
 "nbformat": 4,
 "nbformat_minor": 4
}
